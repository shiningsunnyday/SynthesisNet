{
 "cells": [
  {
   "cell_type": "code",
   "execution_count": 1,
   "metadata": {},
   "outputs": [
    {
     "name": "stderr",
     "output_type": "stream",
     "text": [
      "23:40:00 rdkit INFO: Enabling RDKit 2023.09.5 jupyter extensions\n"
     ]
    }
   ],
   "source": [
    "import numpy as np \n",
    "from matplotlib import pyplot as plt\n",
    "import pickle\n",
    "from synnet.utils.data_utils import SkeletonSet\n",
    "import random\n",
    "random.seed(42)\n",
    "\n",
    "from synnet.encoding.fingerprints import fp_4096\n",
    "from synnet.utils.reconstruct_utils import fetch_oracle\n",
    "from tqdm import tqdm\n",
    "import pandas as pd"
   ]
  },
  {
   "cell_type": "code",
   "execution_count": null,
   "metadata": {},
   "outputs": [
    {
     "name": "stderr",
     "output_type": "stream",
     "text": [
      "18:20:17 rdkit INFO: Enabling RDKit 2023.09.5 jupyter extensions\n"
      "image/png": "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",
      "text/plain": [
       "<Figure size 640x480 with 1 Axes>"
      ]
     },
     "metadata": {},
     "output_type": "display_data"
    }
   ],
   "source": [
    "\n",
    "\n",
    "counts = [len(vals) for vals in sts.values()]\n",
    "fig, ax = plt.subplots(1,1)\n",
    "ax.hist(counts,bins=1000)\n",
    "ax.set_xscale('log')\n",
    "ax.set_xlim([0,10000])\n",
    "fig.savefig('/home/msun415/hist.png')\n"
   ]
  },
  {
   "cell_type": "code",
   "execution_count": 5,
   "metadata": {},
   "outputs": [],
   "source": [
    "\n",
    "\n",
    "sts = pickle.load(open('/home/msun415/SynTreeNet/results/viz/skeletons-valid.pkl', 'rb'))\n",
    "all_skeletons = pickle.load(open('/home/msun415/SynTreeNet/results/viz/skeletons-train.pkl','rb'))\n"
   ]
  },
  {
   "cell_type": "code",
   "execution_count": 6,
   "metadata": {},
   "outputs": [
    {
     "name": "stdout",
     "output_type": "stream",
     "text": [
      "begin computing similarity matrix\n"
     ]
    },
    {
     "name": "stderr",
     "output_type": "stream",
     "text": [
      "100%|██████████| 625521/625521 [01:03<00:00, 9783.68it/s] \n"
     ]
    }
   ],
   "source": [
    "\n",
    "sk_set = SkeletonSet().load_skeletons(sts)\n",
    "sk_set.embed_skeletons()\n"
   ]
  },
  {
   "cell_type": "code",
   "execution_count": 7,
   "metadata": {},
   "outputs": [],
   "source": [
    "mol_sks = [(sk.index, sk.tree.nodes[sk.tree_root]['smiles']) for smi in sk_set.lookup for sk in sk_set.lookup[smi]]\n",
    "\n",
    "k = 100\n",
    "\n",
    "vis_class_criteria = lambda i:len(all_skeletons[list(all_skeletons)[i]])\n",
    "top_indices = sorted(range(len(all_skeletons)), key=vis_class_criteria)[-k:]\n",
    "new_class = dict(zip(top_indices[::-1], range(len(top_indices))))\n",
    "\n",
    "# for visualizing sk, restrict to only 10 from each class\n",
    "new_mol_sks = []\n",
    "count = dict(zip(range(len(top_indices)), [0 for _ in top_indices]))\n",
    "for mol_sk in mol_sks:\n",
    "    if mol_sk[0] not in new_class:\n",
    "        continue\n",
    "    if new_class[mol_sk[0]] not in count:\n",
    "        continue\n",
    "    if count[new_class[mol_sk[0]]] >= 30:\n",
    "        continue\n",
    "    new_mol_sks.append((new_class[mol_sk[0]], mol_sk[1]))\n",
    "    count[new_class[mol_sk[0]]] += 1\n",
    "\n",
    "mol_sks = new_mol_sks\n",
    "\n",
    "# random.shuffle(mol_sks)\n",
    "# mol_sks = mol_sks[:1000]"
   ]
  },
  {
   "cell_type": "code",
   "execution_count": 8,
   "metadata": {},
   "outputs": [
    {
     "name": "stderr",
     "output_type": "stream",
     "text": [
      "100%|██████████| 793/793 [00:13<00:00, 56.76it/s]\n"
     ]
    }
   ],
   "source": [
    "fp_dist = np.zeros((len(mol_sks), len(mol_sks)))\n",
    "fps = [np.array(fp_4096(mol_sk[1])) for mol_sk in mol_sks]\n",
    "for i in tqdm(range(len(mol_sks))):\n",
    "    for j in range(len(mol_sks)):\n",
    "        fp_dist[i, j] = np.abs(fps[i]-fps[j]).sum()\n",
    "\n",
    "max_dist = sk_set.sim.max()\n",
    "max_fp_dist = fp_dist.max()\n"
   ]
  },
  {
   "cell_type": "code",
   "execution_count": 9,
   "metadata": {},
   "outputs": [
    {
     "name": "stderr",
     "output_type": "stream",
     "text": [
      "100%|██████████| 793/793 [00:00<00:00, 1111.42it/s]\n",
      "100%|██████████| 793/793 [00:00<00:00, 2540.18it/s]\n"
     ]
    }
   ],
   "source": [
    "lambd = 0.5\n",
    "dists = np.zeros((len(mol_sks), len(mol_sks)))\n",
    "for i in tqdm(range(len(mol_sks))):\n",
    "    for j in range(len(mol_sks)):\n",
    "        index1 = mol_sks[i][0]\n",
    "        index2 = mol_sks[j][0]\n",
    "        dists[i][j] = lambd*sk_set.sim[index1][index2]/max_dist + (1-lambd)*fp_dist[i][j]/max_fp_dist\n",
    "\n",
    "dists_fp = np.zeros((len(mol_sks), len(mol_sks)))\n",
    "for i in tqdm(range(len(mol_sks))):\n",
    "    for j in range(len(mol_sks)):  \n",
    "        dists_fp[i][j] = fp_dist[i][j]/max_fp_dist"
   ]
  },
  {
   "cell_type": "code",
   "execution_count": 10,
   "metadata": {},
   "outputs": [],
   "source": [
    "from sklearn.manifold import MDS\n",
    "# ms = MDS(n_components=2, dissimilarity='precomputed', verbose=1)\n",
    "# coords = ms.fit_transform(dists)\n",
    "ms = MDS(n_components=2, dissimilarity='precomputed', verbose=1)\n",
    "coords_fp = ms.fit_transform(dists_fp)"
   ]
  },
  {
   "cell_type": "code",
   "execution_count": 29,
   "metadata": {},
   "outputs": [
    {
     "name": "stdout",
     "output_type": "stream",
     "text": [
      "QED\n"
     ]
    }
   ],
   "source": [
    "scores = np.array(scores)\n",
    "normalized_scores = (scores - min(scores)) / (max(scores) - min(scores))\n",
    "quantiles = pd.qcut(normalized_scores, 4, labels=False)\n",
    "fig = plt.Figure()\n",
    "ax = fig.add_subplot(1,1,1)  \n",
    "scatter = ax.scatter(coords_fp[:,0], coords_fp[:,1], c=quantiles, cmap=cmap, edgecolor='k', s=10)\n",
    "fig.colorbar(scatter, ax=ax, label='Score')\n",
    "# ax.set_title(f'MDS Plot of Fingerprint-Property relationship')\n",
    "ax.set_xlabel('MDS Dimension 1')\n",
    "ax.set_ylabel('MDS Dimension 2')\n",
    "fig.savefig(f\"/home/msun415/SynTreeNet/fp-wt-h2.png\")"
   ]
  },
  {
   "cell_type": "code",
   "execution_count": null,
   "metadata": {},
   "outputs": [
    {
     "name": "stderr",
     "output_type": "stream",
     "text": [
      " 17%|█▋        | 134/793 [00:00<00:02, 241.03it/s]"
     ]
    }
   ],
   "source": [
    "import pandas as pd\n",
    "plt.rc('text', usetex=False)\n",
    "plt.rc('font', family='serif')\n",
    "plt.rcParams['font.size'] = 12  # Default font size for all text\n",
    "plt.rcParams['axes.titlesize'] = 20  # Font size for axes titles\n",
    "plt.rcParams['axes.labelsize'] = 14  # Font size for x and y labels\n",
    "plt.rcParams['xtick.labelsize'] = 10  # Font size for x-tick labels\n",
    "plt.rcParams['ytick.labelsize'] = 10  # Font size for y-tick labels\n",
    "plt.rcParams['legend.fontsize'] = 14  # Font size for legends\n",
    "cmap = plt.cm.get_cmap('viridis', 4)\n",
    "# 'drd2','gsk','jnk'\n",
    "\n",
    "fig = plt.Figure(figsize=(20,10))\n",
    "fig.suptitle('MDS Plot of Structure-Property Relationships')\n",
    "for i, prop in enumerate(['qed','drd2','gsk','jnk']):\n",
    "    oracle = fetch_oracle(prop)\n",
    "    prop = prop.upper()\n",
    "    print(prop)\n",
    "    scores = [oracle(mol_sk[1]) for mol_sk in tqdm(mol_sks)]    \n",
    "    \n",
    "    ax = fig.add_subplot(2,4,i+1)\n",
    "    scores = np.array(scores)\n",
    "    normalized_scores = (scores - min(scores)) / (max(scores) - min(scores))\n",
    "    quantiles = pd.qcut(normalized_scores, 4, labels=False)\n",
    "    scatter = ax.scatter(coords[:,0], coords[:,1], c=quantiles, cmap=cmap, edgecolor='k', s=50)\n",
    "    cbar = fig.colorbar(scatter, ax=ax, label=f'{prop} Quantile', ticks=[0,1,2,3])\n",
    "    cbar.set_ticklabels(range(4))\n",
    "    ax.set_title(f'MDS Plot of (Tree+FP)-({prop}) relationship')\n",
    "    ax.set_xlabel('MDS Dimension 1')\n",
    "    ax.set_ylabel('MDS Dimension 2')    \n",
    "    fig.savefig(f\"/home/msun415/SynTreeNet/mds-{prop}-0.5.png\",bbox_inches='tight')\n",
    "\n",
    "    fig = plt.Figure()\n",
    "    ax = fig.add_subplot(1,1,1)  \n",
    "    scatter = ax.scatter(coords_fp[:,0], coords_fp[:,1], c=quantiles, cmap=cmap, edgecolor='k', s=50)\n",
    "    cbar = fig.colorbar(scatter, ax=ax, label=f'{prop} Quantile', ticks=[0,1,2,3])\n",
    "    cbar.set_ticklabels(range(4))\n",
    "    ax.set_title(f'MDS Plot of (FP)-({prop}) relationship')\n",
    "    ax.set_xlabel('MDS Dimension 1')\n",
    "    ax.set_ylabel('MDS Dimension 2')    \n",
    "    fig.savefig(f\"/home/msun415/SynTreeNet/mds-{prop}-fp.png\",bbox_inches='tight')\n",
    "\n"
   ]
  },
  {
   "cell_type": "code",
   "execution_count": 15,
   "metadata": {},
   "outputs": [],
   "source": [
    "rxns = "
   ]
  },
  {
   "cell_type": "code",
   "execution_count": 1,
   "metadata": {},
   "outputs": [
    {
     "ename": "NameError",
     "evalue": "name 'pickle' is not defined",
     "output_type": "error",
     "traceback": [
      "\u001b[0;31m---------------------------------------------------------------------------\u001b[0m",
      "\u001b[0;31mNameError\u001b[0m                                 Traceback (most recent call last)",
      "Cell \u001b[0;32mIn[1], line 1\u001b[0m\n\u001b[0;32m----> 1\u001b[0m skeletons \u001b[38;5;241m=\u001b[39m \u001b[43mpickle\u001b[49m\u001b[38;5;241m.\u001b[39mload(\u001b[38;5;28mopen\u001b[39m(\u001b[38;5;124m'\u001b[39m\u001b[38;5;124mresults/viz/skeletons.pkl\u001b[39m\u001b[38;5;124m'\u001b[39m), \u001b[38;5;124m'\u001b[39m\u001b[38;5;124mrb\u001b[39m\u001b[38;5;124m'\u001b[39m)\n\u001b[1;32m      2\u001b[0m \u001b[38;5;66;03m# if hasattr(args, 'strategy') and args.strategy == 'topological':\u001b[39;00m\n\u001b[1;32m      3\u001b[0m \u001b[38;5;66;03m#     globals()['all_topological_sorts'] = {}\u001b[39;00m\n\u001b[1;32m      4\u001b[0m \u001b[38;5;66;03m#     for index in SKELETON_INDEX:\u001b[39;00m\n\u001b[0;32m   (...)\u001b[0m\n\u001b[1;32m     14\u001b[0m \u001b[38;5;66;03m#         globals()['all_topological_sorts'][tree_key] = list(top_sort_set)\u001b[39;00m\n\u001b[1;32m     15\u001b[0m \u001b[38;5;66;03m# globals()['mc_adj'] = build_mc(args.max_num_rxns)\u001b[39;00m\n",
      "\u001b[0;31mNameError\u001b[0m: name 'pickle' is not defined"
     ]
    }
   ],
   "source": [
    "skeletons = pickle.load(open('results/viz/skeletons.pkl'), 'rb')\n",
    "# if hasattr(args, 'strategy') and args.strategy == 'topological':\n",
    "#     globals()['all_topological_sorts'] = {}\n",
    "#     for index in SKELETON_INDEX:\n",
    "#         sk = Skeleton(sks[index], index)\n",
    "#         if sk.rxns.sum() > args.max_num_rxns: # ignore, won't use to decode\n",
    "#             continue\n",
    "#         top_sorts = nx.all_topological_sorts(sk.tree)\n",
    "#         top_sort_set = set()\n",
    "#         for top_sort in top_sorts:\n",
    "#             top_sort = [n for n in top_sort if sk.rxns[n] or sk.leaves[n]]\n",
    "#             top_sort_set.add(tuple(top_sort))    \n",
    "#         tree_key = serialize_string(sk.tree, sk.tree_root)\n",
    "#         globals()['all_topological_sorts'][tree_key] = list(top_sort_set)\n",
    "# globals()['mc_adj'] = build_mc(args.max_num_rxns)"
   ]
  },
  {
   "cell_type": "code",
   "execution_count": null,
   "metadata": {},
   "outputs": [],
   "source": [
    "len(skeletons)"
   ]
  },
  {
   "cell_type": "code",
   "execution_count": null,
   "metadata": {},
   "outputs": [],
   "source": []
  }
 ],
 "metadata": {
  "kernelspec": {
   "display_name": "synnet",
   "language": "python",
   "name": "python3"
  },
  "language_info": {
   "codemirror_mode": {
    "name": "ipython",
    "version": 3
   },
   "file_extension": ".py",
   "mimetype": "text/x-python",
   "name": "python",
   "nbconvert_exporter": "python",
   "pygments_lexer": "ipython3",
   "version": "3.9.18"
  }
 },
 "nbformat": 4,
 "nbformat_minor": 2
}
